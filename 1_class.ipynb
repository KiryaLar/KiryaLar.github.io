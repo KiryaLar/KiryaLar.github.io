{
  "nbformat": 4,
  "nbformat_minor": 0,
  "metadata": {
    "colab": {
      "provenance": [],
      "authorship_tag": "ABX9TyNbyfSuDXrLvfqSJa4RaFE0",
      "include_colab_link": true
    },
    "kernelspec": {
      "name": "python3",
      "display_name": "Python 3"
    },
    "language_info": {
      "name": "python"
    }
  },
  "cells": [
    {
      "cell_type": "markdown",
      "metadata": {
        "id": "view-in-github",
        "colab_type": "text"
      },
      "source": [
        "<a href=\"https://colab.research.google.com/github/KiryaLar/KiryaLar.github.io/blob/main/1_class.ipynb\" target=\"_parent\"><img src=\"https://colab.research.google.com/assets/colab-badge.svg\" alt=\"Open In Colab\"/></a>"
      ]
    },
    {
      "cell_type": "code",
      "execution_count": null,
      "metadata": {
        "colab": {
          "base_uri": "https://localhost:8080/"
        },
        "id": "xPUuqLXi5MZh",
        "outputId": "19c934bd-bdf5-4f2d-d652-f40f4285aef5"
      },
      "outputs": [
        {
          "output_type": "execute_result",
          "data": {
            "text/plain": [
              "335"
            ]
          },
          "metadata": {},
          "execution_count": 1
        }
      ],
      "source": [
        "235+100\n"
      ]
    },
    {
      "cell_type": "markdown",
      "source": [
        "# Построение решения уравнения фильтрации\n",
        "\n",
        "Формула Дюпии\n",
        "\n",
        "$$Q = \\frac{kh}{18.41 \\mu B} \\frac{P_{res}-P_{wf}}{ln \\dfrac{r_e}{r_w}-\\frac{3}{4}+S}  \\tag{1}$$  \n",
        "\n",
        "Преобразуем\n",
        "\n",
        "$$P_{wf} = P_{res} - \\frac{18.41 Q \\mu B }{kh} \\left( ln \\dfrac{r_e}{r_w}- \\frac{3}{4}+S \\right)  \\tag{2}$$  \n"
      ],
      "metadata": {
        "id": "_Cvj3VKM5SO7"
      }
    },
    {
      "cell_type": "code",
      "source": [
        "import numpy as np\n",
        "import matplotlib.pyplot as plt"
      ],
      "metadata": {
        "id": "fOSOI2BRAEvX"
      },
      "execution_count": null,
      "outputs": []
    },
    {
      "cell_type": "code",
      "source": [
        "def p_ss_atma(q_sm3day=10, mu_cP=1, b_m3m3=1.2 , k_mD=50, h_m=10, r_e_m=250, r_w_m=0.1, S=0, p_res_atma=250):\n",
        "  return p_res_atma - 18.41*q_sm3day*mu_cP*b_m3m3/k_mD/h_m * (np.log(r_e_m/r_w_m) - 0.75 + S)"
      ],
      "metadata": {
        "id": "iomVqT6qJ5nv"
      },
      "execution_count": null,
      "outputs": []
    },
    {
      "cell_type": "code",
      "source": [
        "p_ss_atma(q_sm3day=400, r_w_m=10)"
      ],
      "metadata": {
        "colab": {
          "base_uri": "https://localhost:8080/"
        },
        "id": "syAJh7izKF43",
        "outputId": "57c25ec3-15ab-435e-ae68-bde4cadf52e3"
      },
      "execution_count": null,
      "outputs": [
        {
          "output_type": "execute_result",
          "data": {
            "text/plain": [
              "206.36607622160938"
            ]
          },
          "metadata": {},
          "execution_count": 12
        }
      ]
    },
    {
      "cell_type": "code",
      "source": [
        "rlist = np.linspace(0.1, 250, 100)"
      ],
      "metadata": {
        "id": "0WG1x5g-Ld0J"
      },
      "execution_count": null,
      "outputs": []
    },
    {
      "cell_type": "code",
      "source": [
        "rlist"
      ],
      "metadata": {
        "colab": {
          "base_uri": "https://localhost:8080/"
        },
        "id": "ize7rHEQOOBV",
        "outputId": "e0f27c2b-d13c-46fa-ad6d-bb45fee37c20"
      },
      "execution_count": null,
      "outputs": [
        {
          "output_type": "execute_result",
          "data": {
            "text/plain": [
              "array([1.00000000e-01, 2.78666667e+01, 5.56333333e+01, 8.34000000e+01,\n",
              "       1.11166667e+02, 1.38933333e+02, 1.66700000e+02, 1.94466667e+02,\n",
              "       2.22233333e+02, 2.50000000e+02])"
            ]
          },
          "metadata": {},
          "execution_count": 42
        }
      ]
    },
    {
      "cell_type": "code",
      "source": [
        "plist=[]\n",
        "for r in rlist:\n",
        "  print(p_ss_atma(q_sm3day=400, r_w_m=r))\n",
        "  plist.append(p_ss_atma(q_sm3day=400, r_w_m=r))\n",
        "plist = np.array(plist)"
      ],
      "metadata": {
        "colab": {
          "base_uri": "https://localhost:8080/"
        },
        "id": "Lxbxm5pnORKY",
        "outputId": "f6bf2945-49ce-4524-a721-05d37df09522"
      },
      "execution_count": null,
      "outputs": [
        {
          "output_type": "stream",
          "name": "stdout",
          "text": [
            "124.97614042253024\n",
            "224.47879693373932\n",
            "236.69746345635534\n",
            "243.85289908245778\n",
            "248.9319783222152\n",
            "252.8725482464906\n",
            "256.0927062319147\n",
            "258.81558904492397\n",
            "261.1744333989321\n",
            "263.2552\n"
          ]
        }
      ]
    },
    {
      "cell_type": "code",
      "source": [
        "plist"
      ],
      "metadata": {
        "colab": {
          "base_uri": "https://localhost:8080/"
        },
        "id": "smyPJd4_PDe8",
        "outputId": "ab38ff97-c8f7-4cc8-d45b-218126a68d6f"
      },
      "execution_count": null,
      "outputs": [
        {
          "output_type": "execute_result",
          "data": {
            "text/plain": [
              "array([124.97614042, 224.47879693, 236.69746346, 243.85289908,\n",
              "       248.93197832, 252.87254825, 256.09270623, 258.81558904,\n",
              "       261.1744334 , 263.2552    ])"
            ]
          },
          "metadata": {},
          "execution_count": 24
        }
      ]
    },
    {
      "cell_type": "code",
      "source": [
        "plist = np.zeros(100)"
      ],
      "metadata": {
        "id": "xikjZX7jKQmy"
      },
      "execution_count": null,
      "outputs": []
    },
    {
      "cell_type": "code",
      "source": [
        "i=0\n",
        "for r in rlist:\n",
        "  #print(p_ss_atma(q_sm3day=400, r_w_m=r))\n",
        "  #print(i)\n",
        "  plist[i]=p_ss_atma(q_sm3day=400, r_w_m=r)\n",
        "  i+=1"
      ],
      "metadata": {
        "id": "Np__IF1vP6uy"
      },
      "execution_count": null,
      "outputs": []
    },
    {
      "cell_type": "code",
      "source": [
        "plist"
      ],
      "metadata": {
        "colab": {
          "base_uri": "https://localhost:8080/"
        },
        "id": "zrraH86lRLOf",
        "outputId": "aa95001a-75a5-4656-f326-8c25cdc968ec"
      },
      "execution_count": null,
      "outputs": [
        {
          "output_type": "execute_result",
          "data": {
            "text/plain": [
              "array([124.97614042, 224.47879693, 236.69746346, 243.85289908,\n",
              "       248.93197832, 252.87254825, 256.09270623, 258.81558904,\n",
              "       261.1744334 , 263.2552    ])"
            ]
          },
          "metadata": {},
          "execution_count": 38
        }
      ]
    },
    {
      "cell_type": "code",
      "source": [
        "plt.plot(rlist,plist)"
      ],
      "metadata": {
        "colab": {
          "base_uri": "https://localhost:8080/",
          "height": 447
        },
        "id": "I82b7kokR2WQ",
        "outputId": "e9e38336-fd84-48f8-a13a-29b425a5bb32"
      },
      "execution_count": null,
      "outputs": [
        {
          "output_type": "execute_result",
          "data": {
            "text/plain": [
              "[<matplotlib.lines.Line2D at 0x7df1b5010520>]"
            ]
          },
          "metadata": {},
          "execution_count": 52
        },
        {
          "output_type": "display_data",
          "data": {
            "text/plain": [
              "<Figure size 640x480 with 1 Axes>"
            ],
            "image/png": "[encoded data removed]"
          },
          "metadata": {}
        }
      ]
    }
  ]
}